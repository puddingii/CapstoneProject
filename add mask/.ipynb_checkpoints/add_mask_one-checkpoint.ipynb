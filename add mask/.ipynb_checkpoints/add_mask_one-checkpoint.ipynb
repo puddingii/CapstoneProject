{
 "cells": [
  {
   "cell_type": "code",
   "execution_count": 12,
   "id": "automated-aquarium",
   "metadata": {},
   "outputs": [],
   "source": [
    "import cv2\n",
    "import os"
   ]
  },
  {
   "cell_type": "code",
   "execution_count": 13,
   "id": "random-senator",
   "metadata": {},
   "outputs": [],
   "source": [
    "face_detect = cv2.CascadeClassifier('haarcascade/haarcascade_frontalface_alt.xml'\n",
    ")\n",
    "mouse_detect = cv2.CascadeClassifier('haarcascade/haarcascade_smile.xml')\n",
    "\n",
    "image_path = 'one_image_test.jpg' #원하는 이미지 지정\n",
    "\n",
    "image = cv2.imread(image_path)\n",
    "mask_img = cv2.imread('mask.jpg')\n"
   ]
  },
  {
   "cell_type": "code",
   "execution_count": 14,
   "id": "lonely-publisher",
   "metadata": {
    "scrolled": true
   },
   "outputs": [],
   "source": [
    "image = cv2.resize(image,dsize=None,fx=1,fy=1)\n",
    "gray = cv2.cvtColor(image,cv2.COLOR_BGR2GRAY)\n"
   ]
  },
  {
   "cell_type": "code",
   "execution_count": 15,
   "id": "hourly-nicaragua",
   "metadata": {},
   "outputs": [],
   "source": [
    "face = face_detect.detectMultiScale(gray,1.3,5)"
   ]
  },
  {
   "cell_type": "code",
   "execution_count": 17,
   "id": "prerequisite-silver",
   "metadata": {
    "scrolled": false
   },
   "outputs": [],
   "source": [
    "for(fx,fy,fw,fh) in face:\n",
    "    face_color = image[fy:fy+fh,fx:fx+fw]\n",
    "    face_gray = gray[fy:fy+fh,fx:fx+fw]\n",
    "    \n",
    "    mouse = mouse_detect.detectMultiScale(face_gray,scaleFactor = 10,minNeighbors= 6)\n",
    "    \n",
    "    for(mx,my,mw,mh) in mouse:\n",
    "        \n",
    "        mask_area = image[(fy+my)//2+fy//2:,:]\n",
    "        ma_w,ma_h,ma_c = mask_area.shape\n",
    "        mask_img = cv2.resize(mask_img,(ma_h,ma_w),interpolation =cv2.INTER_AREA)\n",
    "        rows, cols, channels = mask_img.shape\n",
    "        \n",
    "        roi = mask_area[0:ma_w,0:ma_h]\n",
    "        maskgray = cv2.cvtColor(mask_img,cv2.COLOR_BGR2GRAY)\n",
    "        ret,mask = cv2.threshold(maskgray,10,255,cv2.THRESH_BINARY)\n",
    "        mask_inv = cv2.bitwise_not(mask)\n",
    "        img_fg = cv2.bitwise_and(mask_img,mask_img,mask=mask)\n",
    "        img_bg = cv2.bitwise_and(roi,roi,mask=mask_inv)\n",
    "        result = cv2.add(img_fg,img_bg)\n",
    "     \n",
    "        mask_area[0:ma_w,0:ma_h] = result\n"
   ]
  },
  {
   "cell_type": "code",
   "execution_count": 18,
   "id": "accessible-vertical",
   "metadata": {},
   "outputs": [],
   "source": [
    "cv2.imshow('img',image)\n",
    "cv2.waitKey(0)\n",
    "cv2.destroyAllWindows()"
   ]
  },
  {
   "cell_type": "code",
   "execution_count": 19,
   "id": "modern-mouse",
   "metadata": {},
   "outputs": [
    {
     "data": {
      "text/plain": [
       "True"
      ]
     },
     "execution_count": 19,
     "metadata": {},
     "output_type": "execute_result"
    }
   ],
   "source": [
    "cv2.imwrite('mask_{}'.format(image_path),image)"
   ]
  },
  {
   "cell_type": "code",
   "execution_count": null,
   "id": "according-colombia",
   "metadata": {},
   "outputs": [],
   "source": []
  }
 ],
 "metadata": {
  "kernelspec": {
   "display_name": "test",
   "language": "python",
   "name": "test"
  },
  "language_info": {
   "codemirror_mode": {
    "name": "ipython",
    "version": 3
   },
   "file_extension": ".py",
   "mimetype": "text/x-python",
   "name": "python",
   "nbconvert_exporter": "python",
   "pygments_lexer": "ipython3",
   "version": "3.8.8"
  }
 },
 "nbformat": 4,
 "nbformat_minor": 5
}
