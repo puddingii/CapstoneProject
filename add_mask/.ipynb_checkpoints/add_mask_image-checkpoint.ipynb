{
 "cells": [
  {
   "cell_type": "code",
   "execution_count": 3,
   "id": "julian-candy",
   "metadata": {},
   "outputs": [],
   "source": [
    "from imutils import face_utils\n",
    "import numpy as np \n",
    "import imutils \n",
    "import dlib \n",
    "import cv2 "
   ]
  },
  {
   "cell_type": "code",
   "execution_count": 4,
   "id": "classical-argument",
   "metadata": {},
   "outputs": [
    {
     "data": {
      "text/plain": [
       "True"
      ]
     },
     "execution_count": 4,
     "metadata": {},
     "output_type": "execute_result"
    }
   ],
   "source": [
    "img_path = 'test.jpg' #합성할 이미지\n",
    "\n",
    "detector = dlib.get_frontal_face_detector()\n",
    "predictor = dlib.shape_predictor(\"landmark/shape_predictor_68_face_landmarks.dat\")\n",
    "\n",
    "    \n",
    "mask_img = cv2.imread('mask.jpg')\n",
    "image = cv2.imread(img_path)\n",
    "\n",
    "gray = cv2.cvtColor(image, cv2.COLOR_BGR2GRAY) \n",
    "rects = detector(gray, 1)\n",
    "\n",
    "#일단 이미지에서 사람 한명만 찾는걸로 구현\n",
    "\n",
    "for (i,rect) in enumerate(rects):\n",
    "    shape = predictor(gray, rect)\n",
    "    shape = face_utils.shape_to_np(shape)\n",
    "    \n",
    "left = np.array(shape[1],dtype=np.int64)\n",
    "right = np.array(shape[15],dtype=np.int64)\n",
    "bottom = np.array(shape[8],dtype=np.int64) \n",
    "k = np.vstack([bottom,np.vstack([left,right])])\n",
    "\n",
    "(x,y,w,h) = cv2.boundingRect(np.array([k]))\n",
    "    \n",
    "mask_area =  image[y:y+h,x:x+w]\n",
    "ma_w,ma_h,ma_c = mask_area.shape\n",
    "mask_img = cv2.resize(mask_img,(ma_h,ma_w))\n",
    "\n",
    "maskgray =cv2.cvtColor(mask_img,cv2.COLOR_BGR2GRAY)\n",
    "ret,masked = cv2.threshold(maskgray,100,255,cv2.THRESH_BINARY)\n",
    "mask_inv = cv2.bitwise_not(masked)\n",
    "img_fg = cv2.bitwise_and(mask_img,mask_img,mask=masked)\n",
    "img_bg = cv2.bitwise_and(mask_area,mask_area,mask=mask_inv)\n",
    "result = cv2.add(img_fg,img_bg)\n",
    "\n",
    "image[y:y+h,x:x+w] = result\n",
    "\n",
    "cv2.imshow('image',image)\n",
    "cv2.waitKey(0)\n",
    "cv2.destroyAllWindows()\n",
    "\n",
    "cv2.imwrite('mask_{}'.format(img_path),image)"
   ]
  },
  {
   "cell_type": "code",
   "execution_count": null,
   "id": "approximate-sunday",
   "metadata": {},
   "outputs": [],
   "source": []
  }
 ],
 "metadata": {
  "kernelspec": {
   "display_name": "test",
   "language": "python",
   "name": "test"
  },
  "language_info": {
   "codemirror_mode": {
    "name": "ipython",
    "version": 3
   },
   "file_extension": ".py",
   "mimetype": "text/x-python",
   "name": "python",
   "nbconvert_exporter": "python",
   "pygments_lexer": "ipython3",
   "version": "3.8.8"
  }
 },
 "nbformat": 4,
 "nbformat_minor": 5
}
